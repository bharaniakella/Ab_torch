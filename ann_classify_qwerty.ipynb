{
  "nbformat": 4,
  "nbformat_minor": 0,
  "metadata": {
    "colab": {
      "provenance": [],
      "authorship_tag": "ABX9TyNa8gbB3ZETityg93Yn9+5I",
      "include_colab_link": true
    },
    "kernelspec": {
      "name": "python3",
      "display_name": "Python 3"
    },
    "language_info": {
      "name": "python"
    }
  },
  "cells": [
    {
      "cell_type": "markdown",
      "metadata": {
        "id": "view-in-github",
        "colab_type": "text"
      },
      "source": [
        "<a href=\"https://colab.research.google.com/github/bharaniakella/Ab_torch/blob/main/ann_classify_qwerty.ipynb\" target=\"_parent\"><img src=\"https://colab.research.google.com/assets/colab-badge.svg\" alt=\"Open In Colab\"/></a>"
      ]
    },
    {
      "cell_type": "code",
      "execution_count": 3,
      "metadata": {
        "id": "Nyhh7LBfAAXT"
      },
      "outputs": [],
      "source": [
        "import torch.nn as nn\n",
        "from matplotlib import pyplot as plt\n",
        "import numpy  as np\n",
        "import torch"
      ]
    },
    {
      "cell_type": "code",
      "source": [
        "# create data\n",
        "\n",
        "nPerClust = 100\n",
        "blur = 1\n",
        "\n",
        "A = [  1, 1 ]\n",
        "B = [  5, 1 ]\n",
        "\n",
        "# generate data\n",
        "a = [ A[0]+np.random.randn(nPerClust)*blur , A[1]+np.random.randn(nPerClust)*blur ]\n",
        "b = [ B[0]+np.random.randn(nPerClust)*blur , B[1]+np.random.randn(nPerClust)*blur ]\n",
        "\n",
        "# true labels\n",
        "labels_np = np.vstack((np.zeros((nPerClust,1)),np.ones((nPerClust,1))))\n",
        "\n",
        "# concatanate into a matrix\n",
        "data_np = np.hstack((a,b)).T\n",
        "\n",
        "# convert to a pytorch tensor\n",
        "data = torch.tensor(data_np).float()\n",
        "labels = torch.tensor(labels_np).float()\n",
        "\n",
        "# show the data\n",
        "fig = plt.figure(figsize=(5,5))\n",
        "plt.plot(data[np.where(labels==0)[0],0],data[np.where(labels==0)[0],1],'bs')\n",
        "plt.plot(data[np.where(labels==1)[0],0],data[np.where(labels==1)[0],1],'ko')\n",
        "plt.title('The qwerties!')\n",
        "plt.xlabel('qwerty dimension 1')\n",
        "plt.ylabel('qwerty dimension 2')\n",
        "plt.show()"
      ],
      "metadata": {
        "colab": {
          "base_uri": "https://localhost:8080/",
          "height": 487
        },
        "id": "tHykhnOKAHfc",
        "outputId": "cbe4243f-19b0-45fe-c5e6-fc815273e8c4"
      },
      "execution_count": 4,
      "outputs": [
        {
          "output_type": "display_data",
          "data": {
            "text/plain": [
              "<Figure size 500x500 with 1 Axes>"
            ],
            "image/png": "[encoded data removed]"
          },
          "metadata": {}
        }
      ]
    },
    {
      "cell_type": "code",
      "source": [
        "ann_classify=nn.Sequential(\n",
        "    nn.Linear(2,1),\n",
        "    nn.ReLU(),\n",
        "    nn.Linear(1,1),\n",
        "    nn.Sigmoid()\n",
        ")\n",
        "\n",
        "lr=0.01\n",
        "loss_fun=nn.BCELoss()\n",
        "optimizer=torch.optim.SGD(ann_classify.parameters(),lr=lr)\n",
        "\n",
        "numepochs=500\n",
        "losses=torch.zeros(numepochs)\n",
        "\n",
        "for epochi in range(numepochs):\n",
        "  yhat=ann_classify(data)\n",
        "  loss=loss_fun(yhat,labels)\n",
        "\n",
        "  losses[epochi]=loss\n",
        "\n",
        "  optimizer.zero_grad()\n",
        "  loss.backward()\n",
        "  optimizer.step()\n",
        "\n",
        "\n",
        "final_pred=ann_classify(data)"
      ],
      "metadata": {
        "id": "crhaSUMaAMK9"
      },
      "execution_count": 5,
      "outputs": []
    },
    {
      "cell_type": "code",
      "source": [
        "pred_labels=final_pred>0.5\n",
        "missclassified_percentage=len(np.where(pred_labels!=labels))/(2*nPerClust)"
      ],
      "metadata": {
        "id": "h4fIc4pZBrRt"
      },
      "execution_count": 10,
      "outputs": []
    },
    {
      "cell_type": "code",
      "source": [
        "accuracy_percentage=100-missclassified_percentage\n",
        "accuracy_percentage"
      ],
      "metadata": {
        "colab": {
          "base_uri": "https://localhost:8080/"
        },
        "id": "BcTTQuBkBtAZ",
        "outputId": "b78887ab-69a6-486c-c1fc-993b6074309b"
      },
      "execution_count": 13,
      "outputs": [
        {
          "output_type": "execute_result",
          "data": {
            "text/plain": [
              "99.99"
            ]
          },
          "metadata": {},
          "execution_count": 13
        }
      ]
    },
    {
      "cell_type": "code",
      "source": [],
      "metadata": {
        "id": "HWk61CiICFkU"
      },
      "execution_count": null,
      "outputs": []
    }
  ]
}